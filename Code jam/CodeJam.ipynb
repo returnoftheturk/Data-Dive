{
 "cells": [
  {
   "cell_type": "code",
   "execution_count": 310,
   "metadata": {},
   "outputs": [],
   "source": [
    "import urllib.request as urllib\n",
    "import json\n",
    "import csv\n",
    "htmltext = urllib.urlopen(\"https://fantasy.premierleague.com/drf/element-summary/1\")\n",
    "data = json.load(htmltext)\n",
    "scoredata = data['history']\n",
    "keys = scoredata[0].keys()\n",
    "output_file=open('players.csv', 'w')\n",
    "dict_writer = csv.DictWriter(output_file, keys)\n",
    "dict_writer.writeheader()\n",
    "for i in range(1,567):\n",
    "    htmltext = urllib.urlopen(\"https://fantasy.premierleague.com/drf/element-summary/\"+str(i))\n",
    "    data = json.load(htmltext)\n",
    "    scoredata = data['history']\n",
    "    keys = scoredata[0].keys()\n",
    "    dict_writer.writerows(scoredata)\n",
    "output_file.close()    "
   ]
  },
  {
   "cell_type": "code",
   "execution_count": 411,
   "metadata": {},
   "outputs": [],
   "source": [
    "import pandas as pd\n",
    "import numpy as np\n",
    "from sklearn.neural_network import MLPClassifier\n",
    "from sklearn.ensemble import BaggingClassifier\n",
    "from sklearn.model_selection import train_test_split\n",
    "df = pd.read_csv('player.csv')\n",
    "X = df.loc[((df['round']>0)&(df['round']<11))]\n",
    "y = df.loc[((df['round']>1)&(df['round']<12))]['total_points']\n",
    "X_train, X_test, y_train, y_test = train_test_split(X, y, test_size=0.25, random_state=42)\n"
   ]
  },
  {
   "cell_type": "code",
   "execution_count": 434,
   "metadata": {},
   "outputs": [
    {
     "name": "stdout",
     "output_type": "stream",
     "text": [
      "0.544600938967\n",
      "0.833768267223\n",
      "0.546165884194\n"
     ]
    }
   ],
   "source": [
    "from sklearn.ensemble import GradientBoostingClassifier\n",
    "\n",
    "model2 = GradientBoostingClassifier()\n",
    "model2.fit(X_train, y_train)\n",
    "print(model2.score(X_test, y_test))\n",
    "Bag = BaggingClassifier(base_estimator = model2, max_features = 0.7, max_samples = 0.7)\n",
    "Bag.fit(X_train, y_train)\n",
    "print(Bag.score(X_train, y_train))\n",
    "print(Bag.score(X_test, y_test))\n",
    "\n"
   ]
  },
  {
   "cell_type": "code",
   "execution_count": 440,
   "metadata": {},
   "outputs": [
    {
     "name": "stdout",
     "output_type": "stream",
     "text": [
      "1.26777549167\n",
      "2.54889586087\n"
     ]
    }
   ],
   "source": [
    "from sklearn import metrics\n",
    "import pickle\n",
    "y_pred=Bag.predict(X_train)\n",
    "print(np.sqrt(metrics.mean_squared_error(y_train, y_pred)))\n",
    "y_pred=Bag.predict(X_test)\n",
    "print(np.sqrt(metrics.mean_squared_error(y_test, y_pred)))\n",
    "pickle.dump(Bag, open('model', 'wb'))"
   ]
  },
  {
   "cell_type": "code",
   "execution_count": 451,
   "metadata": {},
   "outputs": [],
   "source": [
    "df = pd.read_csv('player2.csv')\n",
    "x_valid= df.loc[(df['round'] == 11)]\n",
    "model = pickle.load(open('model', 'rb'))\n"
   ]
  },
  {
   "cell_type": "code",
   "execution_count": 481,
   "metadata": {},
   "outputs": [
    {
     "data": {
      "text/plain": [
       "array([ 0.,  1.,  0.,  6.,  0.,  0.,  1.,  3.,  0.,  6.,  0.,  0.,  1.,\n",
       "        2.,  0.,  2.,  0.,  3.,  2.,  1.,  3.,  0.,  1.,  1.,  1.,  0.,\n",
       "        0.,  2.,  2.,  0.,  0.,  2.,  2.,  2.,  1.,  0.,  0.,  2.,  3.,\n",
       "        3.,  2.,  0.,  0.,  0.,  2.,  0.,  0.,  1.,  0.,  0.,  2.,  0.,\n",
       "        0.,  1.,  2.,  1.,  0.,  2.,  1.,  0.,  0.,  2.,  2.,  0.,  0.,\n",
       "        1.,  0.,  0.,  0.,  2.,  2.,  1.,  0.,  0.,  0.,  2.,  2.,  2.,\n",
       "        2.,  0.,  0.,  0.,  0.,  2.,  1.,  2.,  2.,  0.,  0.,  2.,  1.,\n",
       "        2.,  1.,  1.,  0.,  0.,  1.,  2.,  2.,  1.,  0.,  0.,  1.,  2.,\n",
       "        5.,  1.,  1.,  1.,  0.,  0.,  2.,  0.,  0.,  0.,  0.,  2.,  0.,\n",
       "        1.,  1.,  0.,  0.,  0.,  1.,  0.,  0.,  2.,  0.,  0.,  1.,  0.,\n",
       "        2.,  2.,  0.,  0.,  1.,  0.,  0.,  2.,  0.,  2.,  0.,  0.,  0.,\n",
       "        0.,  0.,  1.,  0.,  0.,  0.,  0.,  2.,  0.,  1.,  0.,  2.,  2.,\n",
       "        1.,  0.,  2.,  0.,  2.,  0.,  2.,  0.,  0.,  0.,  0.,  1.,  0.,\n",
       "        0.,  1.,  2.,  2.,  2.,  0.,  0.,  0.,  0.,  0.,  0.,  1.,  2.,\n",
       "        0.,  0.,  0.,  0.,  2.,  0.,  2.,  0.,  1.,  2.,  2.,  0.,  0.,\n",
       "        0.,  0.,  2.,  2.,  0.,  2.,  1.,  1.,  0.,  0.,  2.,  0.,  2.,\n",
       "        2.,  0.,  2.,  0.,  2.,  0.,  1.,  2.,  0.,  2.,  2.,  2.,  1.,\n",
       "        1.,  0.,  0.,  0.,  0.,  2.,  0.,  0.,  2.,  0.,  2.,  0.,  2.,\n",
       "        2.,  0.,  0.,  0.,  0.,  1.,  0.,  2.,  0.,  0.,  2.,  2.,  2.,\n",
       "        3.,  0.,  2.,  0.,  2.,  0.,  0.,  5.,  1.,  2.,  1.,  2.,  1.,\n",
       "        0.,  0.,  2.,  1.,  0.,  0.,  2.,  0.,  2.,  0.,  2.,  0.,  0.,\n",
       "        0.,  2.,  0.,  2.,  2.,  1.,  2.,  2.,  0.,  0.,  2.,  2.,  2.,\n",
       "        0.,  2.,  2.,  2.,  0.,  0.,  0.,  0.,  1.,  2.,  0.,  0.,  0.,\n",
       "        2.,  2.,  1.,  0.,  0.,  0.,  2.,  2.,  2.,  0.,  2.,  1.,  0.,\n",
       "        0.,  0.,  0.,  2.,  1.,  1.,  0.,  2.,  0.,  2.,  0.,  2.,  1.,\n",
       "        1.,  1.,  2.,  0.,  1.,  0.,  1.,  0.,  0.,  0.,  0.,  2.,  0.,\n",
       "        0.,  1.,  0.,  2.,  0.,  0.,  2.,  2.,  2.,  2.,  1.,  2.,  0.,\n",
       "        2.,  0.,  2.,  0.,  0.,  0.,  0.,  2.,  1.,  0.,  0.,  2.,  0.,\n",
       "        2.,  2.,  2.,  0.,  1.,  0.,  1.,  2.,  2.,  2.,  0.,  0.,  0.,\n",
       "        2.,  2.,  2.,  1.,  0.,  0.,  2.,  1.,  0.,  3.,  0.,  0.,  2.,\n",
       "        2.,  0.,  2.,  7.,  0.,  0.,  1.,  0.,  0.,  0.,  3.,  2.,  2.,\n",
       "        0.,  2.,  0.,  2.,  2.,  0.,  0.,  0.,  0.,  0.,  2.,  0.,  2.,\n",
       "        0.,  1.,  0.,  0.,  1.,  2.,  1.,  0.,  1.,  2.,  0.,  0.,  0.,\n",
       "        2.,  0.,  1.,  0.,  0.,  1.,  1.,  2.,  0.,  0.,  0.,  0.,  1.,\n",
       "        1.,  1.,  0.,  0.,  0.,  0.,  2.,  1.,  1.,  2.,  5.,  0.,  0.,\n",
       "        0.,  1.,  1.,  0.,  0.,  0.,  2.,  2.,  0.,  0.,  0.,  0.,  1.,\n",
       "        1.,  1.,  0.,  2.,  0.,  0.,  0.,  0.,  2.,  4.,  2.,  0.,  1.,\n",
       "        0.,  0.,  0.,  0.,  0.,  1.,  2.,  0.,  2.,  0.,  0.,  0.,  0.,\n",
       "        0.,  2.,  2.,  0.,  0.,  0.,  5.,  0.,  0.,  0.,  0.,  0.,  0.,\n",
       "        0.,  0.,  0.,  0.,  0.,  0.,  0.,  0.,  0.,  1.,  2.,  1.,  2.,\n",
       "        2.,  0.,  0.,  0.,  0.,  0.,  2.,  0.,  0.,  0.,  0.,  7.,  1.,\n",
       "        0.,  0.,  0.,  0.,  0.,  0.,  0.,  0.,  0.,  1.,  0.,  0.,  0.,\n",
       "        0.,  2.,  0.,  0.,  0.,  0.,  0.,  0.,  0.,  0.,  0.,  0.,  0.])"
      ]
     },
     "execution_count": 481,
     "metadata": {},
     "output_type": "execute_result"
    }
   ],
   "source": [
    "#get user input after conversion to id\n",
    "X_valid=x_valid.loc[(x_valid['element'] == 234)]\n",
    "res=model.predict(x_valid)\n",
    "res"
   ]
  },
  {
   "cell_type": "code",
   "execution_count": 505,
   "metadata": {},
   "outputs": [],
   "source": [
    "\n",
    "\n",
    "firstName = \"Mohamed\"\n",
    "lastName = \"Salah\"\n",
    "i=234\n",
    "\n",
    "htmltext = urllib.urlopen(\"https://fantasy.premierleague.com/drf/bootstrap-static\")\n",
    "input_json = json.load(htmltext)\n",
    "elements = input_json[\"elements\"]\n",
    "out_dir={\"element\":[]}\n",
    "for i in range(1,560):\n",
    "    playerDict = [x for x in elements if (x[\"id\"] == i)]\n",
    "    name = playerDict[0][\"first_name\"]\n",
    "    secondName=playerDict[0][\"second_name\"]\n",
    "    X_valid=x_valid.loc[(x_valid['element'] == i)]\n",
    "    res=model.predict(X_valid)[0]\n",
    "    gs=X_valid['goals_scored'].values[0]\n",
    "    assists=X_valid['assists'].values[0]\n",
    "    cs=X_valid['clean_sheets'].values[0]\n",
    "    minutes=X_valid['minutes'].values[0]\n",
    "    PrevPoints=X_valid['total_points'].values[0]\n",
    "    out_dir[\"element\"].append({\"full_name\":name+\" \"+secondName,\"previous_points\":PrevPoints,\"predicted_points\":res,\"minutes_played\":minutes,\"goals_scored\":gs,\"assists\":assists,\"clean_sheets\":cs})\n",
    "with open('result.json', 'w') as fp:\n",
    "    json.dump(out_dir, fp)"
   ]
  },
  {
   "cell_type": "code",
   "execution_count": null,
   "metadata": {},
   "outputs": [],
   "source": []
  }
 ],
 "metadata": {
  "kernelspec": {
   "display_name": "Python 3",
   "language": "python",
   "name": "python3"
  },
  "language_info": {
   "codemirror_mode": {
    "name": "ipython",
    "version": 3
   },
   "file_extension": ".py",
   "mimetype": "text/x-python",
   "name": "python",
   "nbconvert_exporter": "python",
   "pygments_lexer": "ipython3",
   "version": "3.6.2"
  }
 },
 "nbformat": 4,
 "nbformat_minor": 2
}
